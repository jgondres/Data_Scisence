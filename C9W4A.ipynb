{
    "nbformat_minor": 1, 
    "cells": [
        {
            "source": "# Description of the problem and a discussion of the background.", 
            "cell_type": "markdown", 
            "metadata": {}
        }, 
        {
            "source": "## Problem\n\nThe State of Los Angles has statistics about his population by ZIP code. Some resident of this city wants to know which could be the best zip code for opening a new store. So the problem is about look the best top 10 ZIP codes in order to let him know where could be the best place for opening a new business. He doesn't have any prefence about the kind of business, so it could be any type of Venue.", 
            "cell_type": "markdown", 
            "metadata": {}
        }, 
        {
            "source": "# Description of the data and how it will be used to solve the problem.\n### Data sources", 
            "cell_type": "markdown", 
            "metadata": {}
        }, 
        {
            "source": "#### Los Angeles has a Open Data web site available from where we are going to get the follwing two datasets. The Venues are going to be collected using Foursquare API.\n\n<b>Dataset 1.</b>\n<br />Population data regarded from 2010 census grouped by ZIP code (https://catalog.data.gov).\n\n<b>Dataset 2.</b>\n<br />ZIP codes with it's Latitude and Longitude value (https://catalog.data.gov).\n\n<b>Dataset 3.</b>\n<br />Foursquare.com will provide us with the quantity of Venues registered on their database that will be query using latitude and longitude for each Zip Code ( https://foursquare.com/ ). \n", 
            "cell_type": "markdown", 
            "metadata": {}
        }, 
        {
            "source": "### How Solve the problem.", 
            "cell_type": "markdown", 
            "metadata": {}
        }, 
        {
            "source": "Once we have Venues per Zip Code, we will check if there any relation between population and quantity of Venues. In order to do that we will make a simple projection of the population using yearly growth rate found in the web site http://worldpopulationreview.com/us-counties/ca/los-angeles-county-population/ , and then apply some techniques such as PCA, ANOVA and confusion matrix.\n<br />\n<br /> After have the estimate population, some models will be applying over final dataset, and the best model performance is going to be selected depending of the test results. Once the moldel is selected, a new prjection will be done in order to know what will be cluster with more growth in the next 2 years, and that cluster shall be the suggest within their zip codes. ", 
            "cell_type": "markdown", 
            "metadata": {}
        }, 
        {
            "execution_count": 2, 
            "cell_type": "code", 
            "metadata": {}, 
            "outputs": [], 
            "source": "import pandas as pd"
        }, 
        {
            "execution_count": 3, 
            "cell_type": "code", 
            "metadata": {}, 
            "outputs": [], 
            "source": "census = pd.read_csv('https://data.lacity.org/api/views/nxs9-385f/rows.csv?accessType=DOWNLOAD')"
        }, 
        {
            "execution_count": 4, 
            "cell_type": "code", 
            "metadata": {}, 
            "outputs": [
                {
                    "execution_count": 4, 
                    "metadata": {}, 
                    "data": {
                        "text/html": "<div>\n<style scoped>\n    .dataframe tbody tr th:only-of-type {\n        vertical-align: middle;\n    }\n\n    .dataframe tbody tr th {\n        vertical-align: top;\n    }\n\n    .dataframe thead th {\n        text-align: right;\n    }\n</style>\n<table border=\"1\" class=\"dataframe\">\n  <thead>\n    <tr style=\"text-align: right;\">\n      <th></th>\n      <th>Zip Code</th>\n      <th>Total Population</th>\n      <th>Median Age</th>\n      <th>Total Males</th>\n      <th>Total Females</th>\n      <th>Total Households</th>\n      <th>Average Household Size</th>\n    </tr>\n  </thead>\n  <tbody>\n    <tr>\n      <th>0</th>\n      <td>91371</td>\n      <td>1</td>\n      <td>73.5</td>\n      <td>0</td>\n      <td>1</td>\n      <td>1</td>\n      <td>1.00</td>\n    </tr>\n    <tr>\n      <th>1</th>\n      <td>90001</td>\n      <td>57110</td>\n      <td>26.6</td>\n      <td>28468</td>\n      <td>28642</td>\n      <td>12971</td>\n      <td>4.40</td>\n    </tr>\n    <tr>\n      <th>2</th>\n      <td>90002</td>\n      <td>51223</td>\n      <td>25.5</td>\n      <td>24876</td>\n      <td>26347</td>\n      <td>11731</td>\n      <td>4.36</td>\n    </tr>\n    <tr>\n      <th>3</th>\n      <td>90003</td>\n      <td>66266</td>\n      <td>26.3</td>\n      <td>32631</td>\n      <td>33635</td>\n      <td>15642</td>\n      <td>4.22</td>\n    </tr>\n    <tr>\n      <th>4</th>\n      <td>90004</td>\n      <td>62180</td>\n      <td>34.8</td>\n      <td>31302</td>\n      <td>30878</td>\n      <td>22547</td>\n      <td>2.73</td>\n    </tr>\n    <tr>\n      <th>5</th>\n      <td>90005</td>\n      <td>37681</td>\n      <td>33.9</td>\n      <td>19299</td>\n      <td>18382</td>\n      <td>15044</td>\n      <td>2.50</td>\n    </tr>\n    <tr>\n      <th>6</th>\n      <td>90006</td>\n      <td>59185</td>\n      <td>32.4</td>\n      <td>30254</td>\n      <td>28931</td>\n      <td>18617</td>\n      <td>3.13</td>\n    </tr>\n    <tr>\n      <th>7</th>\n      <td>90007</td>\n      <td>40920</td>\n      <td>24.0</td>\n      <td>20915</td>\n      <td>20005</td>\n      <td>11944</td>\n      <td>3.00</td>\n    </tr>\n    <tr>\n      <th>8</th>\n      <td>90008</td>\n      <td>32327</td>\n      <td>39.7</td>\n      <td>14477</td>\n      <td>17850</td>\n      <td>13841</td>\n      <td>2.33</td>\n    </tr>\n    <tr>\n      <th>9</th>\n      <td>90010</td>\n      <td>3800</td>\n      <td>37.8</td>\n      <td>1874</td>\n      <td>1926</td>\n      <td>2014</td>\n      <td>1.87</td>\n    </tr>\n  </tbody>\n</table>\n</div>", 
                        "text/plain": "   Zip Code  Total Population  Median Age  Total Males  Total Females  \\\n0     91371                 1        73.5            0              1   \n1     90001             57110        26.6        28468          28642   \n2     90002             51223        25.5        24876          26347   \n3     90003             66266        26.3        32631          33635   \n4     90004             62180        34.8        31302          30878   \n5     90005             37681        33.9        19299          18382   \n6     90006             59185        32.4        30254          28931   \n7     90007             40920        24.0        20915          20005   \n8     90008             32327        39.7        14477          17850   \n9     90010              3800        37.8         1874           1926   \n\n   Total Households  Average Household Size  \n0                 1                    1.00  \n1             12971                    4.40  \n2             11731                    4.36  \n3             15642                    4.22  \n4             22547                    2.73  \n5             15044                    2.50  \n6             18617                    3.13  \n7             11944                    3.00  \n8             13841                    2.33  \n9              2014                    1.87  "
                    }, 
                    "output_type": "execute_result"
                }
            ], 
            "source": "census.head(10)"
        }, 
        {
            "execution_count": 8, 
            "cell_type": "code", 
            "metadata": {}, 
            "outputs": [
                {
                    "execution_count": 8, 
                    "metadata": {}, 
                    "data": {
                        "text/html": "<div>\n<style scoped>\n    .dataframe tbody tr th:only-of-type {\n        vertical-align: middle;\n    }\n\n    .dataframe tbody tr th {\n        vertical-align: top;\n    }\n\n    .dataframe thead th {\n        text-align: right;\n    }\n</style>\n<table border=\"1\" class=\"dataframe\">\n  <thead>\n    <tr style=\"text-align: right;\">\n      <th></th>\n      <th>Total Population</th>\n    </tr>\n    <tr>\n      <th>Zip Code</th>\n      <th></th>\n    </tr>\n  </thead>\n  <tbody>\n    <tr>\n      <th>90001</th>\n      <td>57110</td>\n    </tr>\n    <tr>\n      <th>90002</th>\n      <td>51223</td>\n    </tr>\n    <tr>\n      <th>90003</th>\n      <td>66266</td>\n    </tr>\n    <tr>\n      <th>90004</th>\n      <td>62180</td>\n    </tr>\n    <tr>\n      <th>90005</th>\n      <td>37681</td>\n    </tr>\n  </tbody>\n</table>\n</div>", 
                        "text/plain": "          Total Population\nZip Code                  \n90001                57110\n90002                51223\n90003                66266\n90004                62180\n90005                37681"
                    }, 
                    "output_type": "execute_result"
                }
            ], 
            "source": "census_grouped = census[['Zip Code', 'Total Population']].groupby('Zip Code').sum()\ncensus_grouped.head()"
        }, 
        {
            "execution_count": 11, 
            "cell_type": "code", 
            "metadata": {}, 
            "outputs": [
                {
                    "execution_count": 11, 
                    "metadata": {}, 
                    "data": {
                        "text/html": "<div>\n<style scoped>\n    .dataframe tbody tr th:only-of-type {\n        vertical-align: middle;\n    }\n\n    .dataframe tbody tr th {\n        vertical-align: top;\n    }\n\n    .dataframe thead th {\n        text-align: right;\n    }\n</style>\n<table border=\"1\" class=\"dataframe\">\n  <thead>\n    <tr style=\"text-align: right;\">\n      <th></th>\n      <th>HSE_ID</th>\n      <th>PIN</th>\n      <th>PIND</th>\n      <th>HSE_NBR</th>\n      <th>HSE_FRAC_NBR</th>\n      <th>HSE_DIR_CD</th>\n      <th>STR_NM</th>\n      <th>STR_SFX_CD</th>\n      <th>STR_SFX_DIR_CD</th>\n      <th>UNIT_RANGE</th>\n      <th>ZIP_CD</th>\n      <th>LAT</th>\n      <th>LON</th>\n      <th>X_COORD_NBR</th>\n      <th>Y_COORD_NBR</th>\n      <th>ASGN_STTS_IND</th>\n      <th>ENG_DIST</th>\n      <th>CNCL_DIST</th>\n    </tr>\n  </thead>\n  <tbody>\n    <tr>\n      <th>0</th>\n      <td>1</td>\n      <td>153B165   544</td>\n      <td>153B165-544</td>\n      <td>8640</td>\n      <td>NaN</td>\n      <td>W</td>\n      <td>MULHOLLAND</td>\n      <td>DR</td>\n      <td>NaN</td>\n      <td>NaN</td>\n      <td>90210</td>\n      <td>34.12014</td>\n      <td>-118.39278</td>\n      <td>6.442784e+06</td>\n      <td>1.866335e+06</td>\n      <td>U</td>\n      <td>W</td>\n      <td>4.0</td>\n    </tr>\n    <tr>\n      <th>1</th>\n      <td>2</td>\n      <td>153B165   544</td>\n      <td>153B165-544</td>\n      <td>8686</td>\n      <td>NaN</td>\n      <td>W</td>\n      <td>EDWIN</td>\n      <td>DR</td>\n      <td>NaN</td>\n      <td>NaN</td>\n      <td>90046</td>\n      <td>34.12017</td>\n      <td>-118.39228</td>\n      <td>6.442938e+06</td>\n      <td>1.866344e+06</td>\n      <td>A</td>\n      <td>W</td>\n      <td>4.0</td>\n    </tr>\n    <tr>\n      <th>2</th>\n      <td>4</td>\n      <td>153B169    13</td>\n      <td>153B169-13</td>\n      <td>8250</td>\n      <td>NaN</td>\n      <td>W</td>\n      <td>SKYLINE</td>\n      <td>DR</td>\n      <td>NaN</td>\n      <td>NaN</td>\n      <td>90046</td>\n      <td>34.11992</td>\n      <td>-118.38966</td>\n      <td>6.443731e+06</td>\n      <td>1.866253e+06</td>\n      <td>A</td>\n      <td>W</td>\n      <td>4.0</td>\n    </tr>\n    <tr>\n      <th>3</th>\n      <td>5</td>\n      <td>156A181     4</td>\n      <td>156A181-4</td>\n      <td>2909</td>\n      <td>NaN</td>\n      <td>N</td>\n      <td>PASSMORE</td>\n      <td>DR</td>\n      <td>NaN</td>\n      <td>NaN</td>\n      <td>90068</td>\n      <td>34.12373</td>\n      <td>-118.35147</td>\n      <td>6.455294e+06</td>\n      <td>1.867597e+06</td>\n      <td>U</td>\n      <td>V</td>\n      <td>4.0</td>\n    </tr>\n    <tr>\n      <th>4</th>\n      <td>6</td>\n      <td>156A181     7</td>\n      <td>156A181-7</td>\n      <td>7321</td>\n      <td>NaN</td>\n      <td>W</td>\n      <td>WOODROW WILSON</td>\n      <td>DR</td>\n      <td>NaN</td>\n      <td>NaN</td>\n      <td>90046</td>\n      <td>34.12355</td>\n      <td>-118.35299</td>\n      <td>6.454833e+06</td>\n      <td>1.867531e+06</td>\n      <td>A</td>\n      <td>V</td>\n      <td>4.0</td>\n    </tr>\n  </tbody>\n</table>\n</div>", 
                        "text/plain": "   HSE_ID            PIN         PIND  HSE_NBR HSE_FRAC_NBR HSE_DIR_CD  \\\n0       1  153B165   544  153B165-544     8640          NaN          W   \n1       2  153B165   544  153B165-544     8686          NaN          W   \n2       4  153B169    13   153B169-13     8250          NaN          W   \n3       5  156A181     4    156A181-4     2909          NaN          N   \n4       6  156A181     7    156A181-7     7321          NaN          W   \n\n           STR_NM STR_SFX_CD STR_SFX_DIR_CD UNIT_RANGE  ZIP_CD       LAT  \\\n0      MULHOLLAND         DR            NaN        NaN   90210  34.12014   \n1           EDWIN         DR            NaN        NaN   90046  34.12017   \n2         SKYLINE         DR            NaN        NaN   90046  34.11992   \n3        PASSMORE         DR            NaN        NaN   90068  34.12373   \n4  WOODROW WILSON         DR            NaN        NaN   90046  34.12355   \n\n         LON   X_COORD_NBR   Y_COORD_NBR ASGN_STTS_IND ENG_DIST  CNCL_DIST  \n0 -118.39278  6.442784e+06  1.866335e+06             U        W        4.0  \n1 -118.39228  6.442938e+06  1.866344e+06             A        W        4.0  \n2 -118.38966  6.443731e+06  1.866253e+06             A        W        4.0  \n3 -118.35147  6.455294e+06  1.867597e+06             U        V        4.0  \n4 -118.35299  6.454833e+06  1.867531e+06             A        V        4.0  "
                    }, 
                    "output_type": "execute_result"
                }
            ], 
            "source": "zip_codes = pd.read_csv('https://data.lacity.org/api/views/4ca8-mxuh/rows.csv?accessType=DOWNLOAD',low_memory=False)\nzip_codes.head()"
        }, 
        {
            "execution_count": 15, 
            "cell_type": "code", 
            "metadata": {}, 
            "outputs": [
                {
                    "execution_count": 15, 
                    "metadata": {}, 
                    "data": {
                        "text/html": "<div>\n<style scoped>\n    .dataframe tbody tr th:only-of-type {\n        vertical-align: middle;\n    }\n\n    .dataframe tbody tr th {\n        vertical-align: top;\n    }\n\n    .dataframe thead th {\n        text-align: right;\n    }\n</style>\n<table border=\"1\" class=\"dataframe\">\n  <thead>\n    <tr style=\"text-align: right;\">\n      <th></th>\n      <th>ZIP_CD</th>\n      <th>LAT</th>\n      <th>LON</th>\n    </tr>\n  </thead>\n  <tbody>\n    <tr>\n      <th>410529</th>\n      <td>90001</td>\n      <td>33.96327</td>\n      <td>-118.26094</td>\n    </tr>\n    <tr>\n      <th>410530</th>\n      <td>90001</td>\n      <td>33.96298</td>\n      <td>-118.26110</td>\n    </tr>\n    <tr>\n      <th>410531</th>\n      <td>90001</td>\n      <td>33.96298</td>\n      <td>-118.26123</td>\n    </tr>\n    <tr>\n      <th>410532</th>\n      <td>90001</td>\n      <td>33.96298</td>\n      <td>-118.26114</td>\n    </tr>\n    <tr>\n      <th>410533</th>\n      <td>90001</td>\n      <td>33.96298</td>\n      <td>-118.26136</td>\n    </tr>\n  </tbody>\n</table>\n</div>", 
                        "text/plain": "        ZIP_CD       LAT        LON\n410529   90001  33.96327 -118.26094\n410530   90001  33.96298 -118.26110\n410531   90001  33.96298 -118.26123\n410532   90001  33.96298 -118.26114\n410533   90001  33.96298 -118.26136"
                    }, 
                    "output_type": "execute_result"
                }
            ], 
            "source": "zip_90001 = zip_codes[zip_codes['ZIP_CD'] == 90001]\nzip_90001 = zip_90001[['ZIP_CD','LAT', 'LON']]\nzip_90001.head()"
        }, 
        {
            "source": "### Data Results:\n\nThe <b>zip_90001</b> combined with <b>census</b> dataset will provide the population with it's latitude and longude, and then using python code the populition will be raise until 2018 using the following growth rates per year: \n<ul style=\"list-style-type:none;\">\n  <li>2011 - 0.63%</li>\n  <li>2012 - 0.71%</li>\n  <li>2013 - 0.63%</li>\n  <li>2014 - 0.54%</li>\n  <li>2015 - 0.50%</li>    \n  <li>2016 - 0.27%</li>   \n  <li>2017 - 0.13%</li>  \n  <li>2018 - 0.06%</li>  \n</ul>\n\n<br />\nThe latest estimation of Los Angeles population is 4,054,400, so the total population value obteined after projection, should be fit around that value. \n<br /> Source: http://www.dof.ca.gov/Forecasting/Demographics/Estimates/e-1/documents/E-1_2018PressRelease.pdf\n\n", 
            "cell_type": "markdown", 
            "metadata": {}
        }
    ], 
    "metadata": {
        "kernelspec": {
            "display_name": "Python 3.5", 
            "name": "python3", 
            "language": "python"
        }, 
        "language_info": {
            "mimetype": "text/x-python", 
            "nbconvert_exporter": "python", 
            "version": "3.5.5", 
            "name": "python", 
            "file_extension": ".py", 
            "pygments_lexer": "ipython3", 
            "codemirror_mode": {
                "version": 3, 
                "name": "ipython"
            }
        }
    }, 
    "nbformat": 4
}